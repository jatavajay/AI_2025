{
 "cells": [
  {
   "cell_type": "markdown",
   "id": "f01fa8dd",
   "metadata": {},
   "source": [
    "Assignment 01 - Programming Task\n",
    "A* Search — Class based Implementation & Heuristic Experiments"
   ]
  },
  {
   "cell_type": "code",
   "execution_count": 1,
   "id": "ad0fece7",
   "metadata": {},
   "outputs": [],
   "source": [
    "import heapq\n",
    "import matplotlib.pyplot as plt\n",
    "import numpy as np\n",
    "\n",
    "def astar(maze, start, goal, heuristic):\n",
    "    \"\"\"\n",
    "    A* Search Algorithm.\n",
    "    \n",
    "    Parameters:\n",
    "        maze: 2D list, 0 = free cell, 1 = wall\n",
    "        start: (row, col)\n",
    "        goal: (row, col)\n",
    "        heuristic: function to estimate cost from node to goal\n",
    "    \n",
    "    Returns:\n",
    "        path: list of coordinates from start to goal\n",
    "        cost: length of path (number of steps)\n",
    "    \"\"\"\n",
    "    rows, cols = len(maze), len(maze[0])\n",
    "    open_list = [(0 + heuristic(start, goal), 0, start, [])]  # (f, g, node, path)\n",
    "    visited = set()\n",
    "\n",
    "    while open_list:\n",
    "        f, g, current, path = heapq.heappop(open_list)\n",
    "        if current in visited:\n",
    "            continue\n",
    "        path = path + [current]\n",
    "\n",
    "        # Goal check\n",
    "        if current == goal:\n",
    "            return path, g\n",
    "        \n",
    "        visited.add(current)\n",
    "        r, c = current\n",
    "\n",
    "        # Explore neighbors\n",
    "        for dr, dc in [(1,0),(-1,0),(0,1),(0,-1)]:\n",
    "            nr, nc = r + dr, c + dc\n",
    "            if 0 <= nr < rows and 0 <= nc < cols and maze[nr][nc] == 0:\n",
    "                new_g = g + 1\n",
    "                new_f = new_g + heuristic((nr, nc), goal)\n",
    "                heapq.heappush(open_list, (new_f, new_g, (nr, nc), path))\n",
    "    \n",
    "    return None, float(\"inf\")  # No path found\n"
   ]
  },
  {
   "cell_type": "code",
   "execution_count": 2,
   "id": "b4629101",
   "metadata": {},
   "outputs": [],
   "source": [
    "# Standard Manhattan distance (admissible + consistent)\n",
    "def manhattan(a, b):\n",
    "    return abs(a[0] - b[0]) + abs(a[1] - b[1])\n",
    "\n",
    "# Scaled Manhattan distance (may break admissibility)\n",
    "def scaled_manhattan(a, b):\n",
    "    return 1.5 * manhattan(a, b)\n",
    "\n",
    "# Example of heuristic violating consistency\n",
    "def inconsistent_heuristic(a, b):\n",
    "    # Admissible for most nodes, but purposely inconsistent for demonstration\n",
    "    if a == (1,1):  \n",
    "        return 10  # artificially high\n",
    "    return manhattan(a, b)\n"
   ]
  },
  {
   "cell_type": "code",
   "execution_count": 3,
   "id": "e95f360a",
   "metadata": {},
   "outputs": [],
   "source": [
    "maze = [\n",
    "    [0, 0, 0, 0, 0],\n",
    "    [1, 1, 0, 1, 0],\n",
    "    [0, 0, 0, 1, 0],\n",
    "    [0, 1, 0, 0, 0],\n",
    "    [0, 0, 0, 1, 0],\n",
    "]\n",
    "\n",
    "start, goal = (0, 0), (4, 4)\n"
   ]
  },
  {
   "cell_type": "code",
   "execution_count": 4,
   "id": "e2f84666",
   "metadata": {},
   "outputs": [
    {
     "name": "stdout",
     "output_type": "stream",
     "text": [
      "Case 1 - Manhattan:\n",
      "Path: [(0, 0), (0, 1), (0, 2), (0, 3), (0, 4), (1, 4), (2, 4), (3, 4), (4, 4)]\n",
      "Cost: 8\n",
      "Optimal? Yes (Manhattan is admissible)\n",
      "\n",
      "Case 2 - Scaled Manhattan (1.5x):\n",
      "Path: [(0, 0), (0, 1), (0, 2), (0, 3), (0, 4), (1, 4), (2, 4), (3, 4), (4, 4)]\n",
      "Cost: 8\n",
      "Optimal? Probably not (heuristic may overestimate)\n",
      "\n",
      "Case 3 - Inconsistent Heuristic:\n",
      "Path: [(0, 0), (0, 1), (0, 2), (0, 3), (0, 4), (1, 4), (2, 4), (3, 4), (4, 4)]\n",
      "Cost: 8\n",
      "Optimal? Path may still be optimal, but expansion order is wrong\n",
      "\n"
     ]
    }
   ],
   "source": [
    "# Case 1: Manhattan distance\n",
    "path1, cost1 = astar(maze, start, goal, manhattan)\n",
    "print(\"Case 1 - Manhattan:\")\n",
    "print(\"Path:\", path1)\n",
    "print(\"Cost:\", cost1)\n",
    "print(\"Optimal? Yes (Manhattan is admissible)\\n\")\n",
    "\n",
    "# Case 2: Scaled Manhattan\n",
    "path2, cost2 = astar(maze, start, goal, scaled_manhattan)\n",
    "print(\"Case 2 - Scaled Manhattan (1.5x):\")\n",
    "print(\"Path:\", path2)\n",
    "print(\"Cost:\", cost2)\n",
    "print(\"Optimal? Probably not (heuristic may overestimate)\\n\")\n",
    "\n",
    "# Case 3: Inconsistent heuristic\n",
    "path3, cost3 = astar(maze, start, goal, inconsistent_heuristic)\n",
    "print(\"Case 3 - Inconsistent Heuristic:\")\n",
    "print(\"Path:\", path3)\n",
    "print(\"Cost:\", cost3)\n",
    "print(\"Optimal? Path may still be optimal, but expansion order is wrong\\n\")\n"
   ]
  },
  {
   "cell_type": "code",
   "execution_count": 5,
   "id": "760f9bdf",
   "metadata": {},
   "outputs": [
    {
     "data": {
      "image/png": "[encoded data removed]",
      "text/plain": [
       "<Figure size 640x480 with 1 Axes>"
      ]
     },
     "metadata": {},
     "output_type": "display_data"
    }
   ],
   "source": [
    "def plot_maze(maze, path):\n",
    "    maze_array = np.array(maze)\n",
    "    plt.imshow(maze_array, cmap=\"gray_r\")\n",
    "\n",
    "    if path:\n",
    "        px, py = zip(*path)\n",
    "        plt.plot(py, px, marker=\"o\", color=\"red\")\n",
    "\n",
    "    plt.title(\"A* Search Result\")\n",
    "    plt.show()\n",
    "\n",
    "# Example visualization for Case 1\n",
    "plot_maze(maze, path1)\n"
   ]
  }
 ],
 "metadata": {
  "kernelspec": {
   "display_name": "Python 3",
   "language": "python",
   "name": "python3"
  },
  "language_info": {
   "codemirror_mode": {
    "name": "ipython",
    "version": 3
   },
   "file_extension": ".py",
   "mimetype": "text/x-python",
   "name": "python",
   "nbconvert_exporter": "python",
   "pygments_lexer": "ipython3",
   "version": "3.13.3"
  }
 },
 "nbformat": 4,
 "nbformat_minor": 5
}
