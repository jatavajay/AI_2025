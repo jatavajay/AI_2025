{
 "cells": [
  {
   "cell_type": "code",
   "execution_count": 1,
   "id": "c3ebb865",
   "metadata": {},
   "outputs": [
    {
     "name": "stdout",
     "output_type": "stream",
     "text": [
      "{'A': 'black', 'B': 'black', 'C': 'black', 'D': 'black', 'E': 'black', 'F': 'black'}\n",
      "{'A': None, 'B': 'A', 'C': 'A', 'D': 'B', 'E': 'B', 'F': 'C'}\n"
     ]
    },
    {
     "data": {
      "text/plain": [
       "{'A': 0, 'B': 1, 'C': 1, 'D': 2, 'E': 2, 'F': 2}"
      ]
     },
     "execution_count": 1,
     "metadata": {},
     "output_type": "execute_result"
    }
   ],
   "source": [
    "from collections import deque\n",
    "graph = {\n",
    "    'A': ['B', 'C'],\n",
    "    'B': ['D', 'E'],\n",
    "    'C': ['F'],\n",
    "    'D': [],\n",
    "    'E': ['F'],\n",
    "    'F': [] }\n",
    "color={x:'white' for x in graph.keys()}\n",
    "parent={x:'None' for x in graph.keys()}\n",
    "distance={x:float('inf') for x in graph.keys()}\n",
    "Q=deque()\n",
    "def bfs_visit(graph,node):\n",
    "    Q.append(node)\n",
    "    color[node]='grey'\n",
    "    parent[node]=None\n",
    "    distance[node]=0\n",
    "    while Q:\n",
    "        node=Q.popleft()\n",
    "        for i in graph[node]:\n",
    "            if color[i]=='white':\n",
    "                color[i]='grey'\n",
    "                distance[i]=distance[node]+1\n",
    "                parent[i]=node\n",
    "                Q.append(i)\n",
    "        color[node]='black'\n",
    "    print(color)\n",
    "    print(parent)\n",
    "    return distance\n",
    "bfs_visit(graph,'A')\n",
    "\n"
   ]
  }
 ],
 "metadata": {
  "kernelspec": {
   "display_name": "Python 3",
   "language": "python",
   "name": "python3"
  },
  "language_info": {
   "codemirror_mode": {
    "name": "ipython",
    "version": 3
   },
   "file_extension": ".py",
   "mimetype": "text/x-python",
   "name": "python",
   "nbconvert_exporter": "python",
   "pygments_lexer": "ipython3",
   "version": "3.13.3"
  }
 },
 "nbformat": 4,
 "nbformat_minor": 5
}
