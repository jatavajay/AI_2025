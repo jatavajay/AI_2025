{
 "cells": [
  {
   "cell_type": "code",
   "execution_count": 1,
   "id": "ca66daaf",
   "metadata": {},
   "outputs": [
    {
     "name": "stdout",
     "output_type": "stream",
     "text": [
      "Colors: {'A': 'black', 'B': 'black', 'C': 'black', 'D': 'black', 'E': 'black', 'F': 'black'}\n",
      "Discovery times: {'A': 1, 'B': 2, 'D': 3, 'E': 5, 'F': 6, 'C': 10}\n",
      "Finish times: {'D': 4, 'F': 7, 'E': 8, 'B': 9, 'C': 11, 'A': 12}\n",
      "Parents: {'A': None, 'B': 'A', 'C': 'A', 'D': 'B', 'E': 'B', 'F': 'E'}\n"
     ]
    }
   ],
   "source": [
    "graph = {\n",
    "    'A': ['B', 'C'],\n",
    "    'B': ['D', 'E'],\n",
    "    'C': ['F'],\n",
    "    'D': [],\n",
    "    'E': ['F'],\n",
    "    'F': []\n",
    "}\n",
    "\n",
    "color = {x: 'white' for x in graph.keys()}\n",
    "parent = {x: None for x in graph.keys()}\n",
    "discovery = {}\n",
    "finish = {}\n",
    "time = 0\n",
    "stack = []\n",
    "def DFS(graph):\n",
    "    for node in graph:\n",
    "        if color[node] == 'white':\n",
    "            dfs_visit(node)\n",
    "\n",
    "def dfs_visit(node):\n",
    "    global time\n",
    "    color[node] = 'gray'        \n",
    "    time += 1\n",
    "    discovery[node] = time\n",
    "    stack.append(node)\n",
    "\n",
    "    for j in graph[node]:\n",
    "        if color[j] == 'white':\n",
    "            parent[j] = node\n",
    "            dfs_visit(j)\n",
    "\n",
    "    stack.pop()\n",
    "    color[node] = 'black'      \n",
    "    time += 1\n",
    "    finish[node] = time\n",
    "\n",
    "DFS(graph)\n",
    "print(\"Colors:\", color)\n",
    "print(\"Discovery times:\", discovery)\n",
    "print(\"Finish times:\", finish)\n",
    "print(\"Parents:\", parent)\n"
   ]
  }
 ],
 "metadata": {
  "kernelspec": {
   "display_name": "Python 3",
   "language": "python",
   "name": "python3"
  },
  "language_info": {
   "codemirror_mode": {
    "name": "ipython",
    "version": 3
   },
   "file_extension": ".py",
   "mimetype": "text/x-python",
   "name": "python",
   "nbconvert_exporter": "python",
   "pygments_lexer": "ipython3",
   "version": "3.13.3"
  }
 },
 "nbformat": 4,
 "nbformat_minor": 5
}
